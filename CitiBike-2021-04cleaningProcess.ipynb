{
 "cells": [
  {
   "cell_type": "markdown",
   "metadata": {},
   "source": [
    "Rough outline for cleaning:\n",
    "1. See what is available\n",
    "2. shrink memory footprint \n",
    "    by casting columns to different data types: \n",
    "        a. text to category where appropriate, \n",
    "        b. timestamp string to pandas datetimestamp).\n",
    "3. look for outliers/bad data and drop rows that don't make sense"
   ]
  },
  {
   "cell_type": "code",
   "execution_count": 1,
   "metadata": {},
   "outputs": [],
   "source": [
    "#import dependencies\n",
    "import pandas as pd\n",
    "import os\n",
    "import matplotlib.pyplot as plt\n",
    "import seaborn as sns  #using for histograms to clean data"
   ]
  },
  {
   "cell_type": "code",
   "execution_count": 33,
   "metadata": {},
   "outputs": [],
   "source": [
    "def humanbytes(B):  #https://stackoverflow.com/questions/12523586/python-format-size-application-converting-b-to-kb-mb-gb-tb\n",
    "   'Return the given bytes as a human friendly KB, MB, GB, or TB string'\n",
    "   B = float(B)\n",
    "   KB = float(1024)\n",
    "   MB = float(KB ** 2) # 1,048,576\n",
    "   GB = float(KB ** 3) # 1,073,741,824\n",
    "   TB = float(KB ** 4) # 1,099,511,627,776\n",
    "\n",
    "   if B < KB:\n",
    "      return '{0} {1}'.format(B,'Bytes' if 0 == B > 1 else 'Byte')\n",
    "   elif KB <= B < MB:\n",
    "      return '{0:.2f} KB'.format(B/KB)\n",
    "   elif MB <= B < GB:\n",
    "      return '{0:.2f} MB'.format(B/MB)\n",
    "   elif GB <= B < TB:\n",
    "      return '{0:.2f} GB'.format(B/GB)\n",
    "   elif TB <= B:\n",
    "      return '{0:.2f} TB'.format(B/TB);\n",
    "    \n"
   ]
  },
  {
   "cell_type": "code",
   "execution_count": 36,
   "metadata": {},
   "outputs": [],
   "source": [
    "def df_memory_total (df):     #takes dataframe as input.\n",
    "    s=df.memory_usage()       #generate series to call sum() next\n",
    "    t=s.sum()                 #getting the total of all memory components\n",
    "    return(humanbytes(t))     #format the total in terms of KB, MB, etc.\n"
   ]
  },
  {
   "cell_type": "code",
   "execution_count": 2,
   "metadata": {},
   "outputs": [
    {
     "name": "stdout",
     "output_type": "stream",
     "text": [
      "<class 'pandas.core.frame.DataFrame'>\n",
      "RangeIndex: 2016151 entries, 0 to 2016150\n",
      "Data columns (total 15 columns):\n",
      " #   Column                   Dtype  \n",
      "---  ------                   -----  \n",
      " 0   tripduration             int64  \n",
      " 1   starttime                object \n",
      " 2   stoptime                 object \n",
      " 3   start station id         int64  \n",
      " 4   start station name       object \n",
      " 5   start station latitude   float64\n",
      " 6   start station longitude  float64\n",
      " 7   end station id           int64  \n",
      " 8   end station name         object \n",
      " 9   end station latitude     float64\n",
      " 10  end station longitude    float64\n",
      " 11  bikeid                   int64  \n",
      " 12  usertype                 object \n",
      " 13  birth year               int64  \n",
      " 14  gender                   int64  \n",
      "dtypes: float64(4), int64(6), object(5)\n",
      "memory usage: 230.7+ MB\n"
     ]
    }
   ],
   "source": [
    "#Exploring the most recent data file to get a basis of comparison\n",
    "\n",
    "df = pd.read_csv('../DataDump/202104-citibike-tripdata.csv')\n",
    "df.info()"
   ]
  },
  {
   "cell_type": "code",
   "execution_count": 3,
   "metadata": {},
   "outputs": [
    {
     "data": {
      "text/html": [
       "<div>\n",
       "<style scoped>\n",
       "    .dataframe tbody tr th:only-of-type {\n",
       "        vertical-align: middle;\n",
       "    }\n",
       "\n",
       "    .dataframe tbody tr th {\n",
       "        vertical-align: top;\n",
       "    }\n",
       "\n",
       "    .dataframe thead th {\n",
       "        text-align: right;\n",
       "    }\n",
       "</style>\n",
       "<table border=\"1\" class=\"dataframe\">\n",
       "  <thead>\n",
       "    <tr style=\"text-align: right;\">\n",
       "      <th></th>\n",
       "      <th>tripduration</th>\n",
       "      <th>start station id</th>\n",
       "      <th>start station latitude</th>\n",
       "      <th>start station longitude</th>\n",
       "      <th>end station id</th>\n",
       "      <th>end station latitude</th>\n",
       "      <th>end station longitude</th>\n",
       "      <th>bikeid</th>\n",
       "      <th>birth year</th>\n",
       "      <th>gender</th>\n",
       "    </tr>\n",
       "  </thead>\n",
       "  <tbody>\n",
       "    <tr>\n",
       "      <th>count</th>\n",
       "      <td>2016151.00</td>\n",
       "      <td>2016151.00</td>\n",
       "      <td>2016151.00</td>\n",
       "      <td>2016151.00</td>\n",
       "      <td>2016151.00</td>\n",
       "      <td>2016151.00</td>\n",
       "      <td>2016151.00</td>\n",
       "      <td>2016151.00</td>\n",
       "      <td>2016151.00</td>\n",
       "      <td>2016151.00</td>\n",
       "    </tr>\n",
       "    <tr>\n",
       "      <th>mean</th>\n",
       "      <td>1186.04</td>\n",
       "      <td>2286.18</td>\n",
       "      <td>40.74</td>\n",
       "      <td>-73.98</td>\n",
       "      <td>2281.80</td>\n",
       "      <td>40.74</td>\n",
       "      <td>-73.98</td>\n",
       "      <td>43815.73</td>\n",
       "      <td>1970.34</td>\n",
       "      <td>0.06</td>\n",
       "    </tr>\n",
       "    <tr>\n",
       "      <th>std</th>\n",
       "      <td>11810.93</td>\n",
       "      <td>1591.52</td>\n",
       "      <td>0.04</td>\n",
       "      <td>0.02</td>\n",
       "      <td>1592.29</td>\n",
       "      <td>0.04</td>\n",
       "      <td>0.02</td>\n",
       "      <td>9489.69</td>\n",
       "      <td>3.35</td>\n",
       "      <td>0.29</td>\n",
       "    </tr>\n",
       "    <tr>\n",
       "      <th>min</th>\n",
       "      <td>61.00</td>\n",
       "      <td>72.00</td>\n",
       "      <td>40.63</td>\n",
       "      <td>-74.03</td>\n",
       "      <td>72.00</td>\n",
       "      <td>40.63</td>\n",
       "      <td>-74.08</td>\n",
       "      <td>14529.00</td>\n",
       "      <td>1888.00</td>\n",
       "      <td>0.00</td>\n",
       "    </tr>\n",
       "    <tr>\n",
       "      <th>25%</th>\n",
       "      <td>386.00</td>\n",
       "      <td>450.00</td>\n",
       "      <td>40.72</td>\n",
       "      <td>-73.99</td>\n",
       "      <td>448.00</td>\n",
       "      <td>40.72</td>\n",
       "      <td>-73.99</td>\n",
       "      <td>37403.00</td>\n",
       "      <td>1970.00</td>\n",
       "      <td>0.00</td>\n",
       "    </tr>\n",
       "    <tr>\n",
       "      <th>50%</th>\n",
       "      <td>689.00</td>\n",
       "      <td>3154.00</td>\n",
       "      <td>40.74</td>\n",
       "      <td>-73.98</td>\n",
       "      <td>3152.00</td>\n",
       "      <td>40.74</td>\n",
       "      <td>-73.98</td>\n",
       "      <td>47415.00</td>\n",
       "      <td>1970.00</td>\n",
       "      <td>0.00</td>\n",
       "    </tr>\n",
       "    <tr>\n",
       "      <th>75%</th>\n",
       "      <td>1223.00</td>\n",
       "      <td>3641.00</td>\n",
       "      <td>40.77</td>\n",
       "      <td>-73.96</td>\n",
       "      <td>3641.00</td>\n",
       "      <td>40.77</td>\n",
       "      <td>-73.96</td>\n",
       "      <td>51104.00</td>\n",
       "      <td>1970.00</td>\n",
       "      <td>0.00</td>\n",
       "    </tr>\n",
       "    <tr>\n",
       "      <th>max</th>\n",
       "      <td>2899719.00</td>\n",
       "      <td>4502.00</td>\n",
       "      <td>40.87</td>\n",
       "      <td>-73.88</td>\n",
       "      <td>4519.00</td>\n",
       "      <td>40.87</td>\n",
       "      <td>-73.88</td>\n",
       "      <td>55627.00</td>\n",
       "      <td>2004.00</td>\n",
       "      <td>2.00</td>\n",
       "    </tr>\n",
       "  </tbody>\n",
       "</table>\n",
       "</div>"
      ],
      "text/plain": [
       "       tripduration  start station id  start station latitude  \\\n",
       "count    2016151.00        2016151.00              2016151.00   \n",
       "mean        1186.04           2286.18                   40.74   \n",
       "std        11810.93           1591.52                    0.04   \n",
       "min           61.00             72.00                   40.63   \n",
       "25%          386.00            450.00                   40.72   \n",
       "50%          689.00           3154.00                   40.74   \n",
       "75%         1223.00           3641.00                   40.77   \n",
       "max      2899719.00           4502.00                   40.87   \n",
       "\n",
       "       start station longitude  end station id  end station latitude  \\\n",
       "count               2016151.00      2016151.00            2016151.00   \n",
       "mean                    -73.98         2281.80                 40.74   \n",
       "std                       0.02         1592.29                  0.04   \n",
       "min                     -74.03           72.00                 40.63   \n",
       "25%                     -73.99          448.00                 40.72   \n",
       "50%                     -73.98         3152.00                 40.74   \n",
       "75%                     -73.96         3641.00                 40.77   \n",
       "max                     -73.88         4519.00                 40.87   \n",
       "\n",
       "       end station longitude      bikeid  birth year      gender  \n",
       "count             2016151.00  2016151.00  2016151.00  2016151.00  \n",
       "mean                  -73.98    43815.73     1970.34        0.06  \n",
       "std                     0.02     9489.69        3.35        0.29  \n",
       "min                   -74.08    14529.00     1888.00        0.00  \n",
       "25%                   -73.99    37403.00     1970.00        0.00  \n",
       "50%                   -73.98    47415.00     1970.00        0.00  \n",
       "75%                   -73.96    51104.00     1970.00        0.00  \n",
       "max                   -73.88    55627.00     2004.00        2.00  "
      ]
     },
     "execution_count": 3,
     "metadata": {},
     "output_type": "execute_result"
    }
   ],
   "source": [
    "df.describe().round(2)"
   ]
  },
  {
   "cell_type": "markdown",
   "metadata": {},
   "source": [
    "### Observations:\n",
    " * one month of data takes up ~ 0.25 GB, which is huge. \n",
    " * We won't be able to look at too many files unless we shrink the footprint\n",
    " * Cardinality (relative count of distinct values) is much lower for station ID, suggesting breaking out this info,\n",
    "     ** - problem encountered: I cannot assume the same set of stations is in each file, so it would be necessary to pull all distinct values... Therefore, trying another approach as outlined here: https://towardsdatascience.com/exploring-bike-share-data-3e3b2f28760c"
   ]
  },
  {
   "cell_type": "code",
   "execution_count": 4,
   "metadata": {},
   "outputs": [
    {
     "data": {
      "text/html": [
       "<div>\n",
       "<style scoped>\n",
       "    .dataframe tbody tr th:only-of-type {\n",
       "        vertical-align: middle;\n",
       "    }\n",
       "\n",
       "    .dataframe tbody tr th {\n",
       "        vertical-align: top;\n",
       "    }\n",
       "\n",
       "    .dataframe thead th {\n",
       "        text-align: right;\n",
       "    }\n",
       "</style>\n",
       "<table border=\"1\" class=\"dataframe\">\n",
       "  <thead>\n",
       "    <tr style=\"text-align: right;\">\n",
       "      <th></th>\n",
       "      <th>Column Name</th>\n",
       "      <th>Unique</th>\n",
       "      <th>Data Type</th>\n",
       "      <th>Memory Usage</th>\n",
       "    </tr>\n",
       "  </thead>\n",
       "  <tbody>\n",
       "    <tr>\n",
       "      <th>0</th>\n",
       "      <td>tripduration</td>\n",
       "      <td>14311</td>\n",
       "      <td>int64</td>\n",
       "      <td>16129336</td>\n",
       "    </tr>\n",
       "    <tr>\n",
       "      <th>1</th>\n",
       "      <td>starttime</td>\n",
       "      <td>2014805</td>\n",
       "      <td>object</td>\n",
       "      <td>163308359</td>\n",
       "    </tr>\n",
       "    <tr>\n",
       "      <th>2</th>\n",
       "      <td>stoptime</td>\n",
       "      <td>2014800</td>\n",
       "      <td>object</td>\n",
       "      <td>163308359</td>\n",
       "    </tr>\n",
       "    <tr>\n",
       "      <th>3</th>\n",
       "      <td>start station id</td>\n",
       "      <td>1391</td>\n",
       "      <td>int64</td>\n",
       "      <td>16129336</td>\n",
       "    </tr>\n",
       "    <tr>\n",
       "      <th>4</th>\n",
       "      <td>start station name</td>\n",
       "      <td>1391</td>\n",
       "      <td>object</td>\n",
       "      <td>155144060</td>\n",
       "    </tr>\n",
       "    <tr>\n",
       "      <th>5</th>\n",
       "      <td>start station latitude</td>\n",
       "      <td>1391</td>\n",
       "      <td>float64</td>\n",
       "      <td>16129336</td>\n",
       "    </tr>\n",
       "    <tr>\n",
       "      <th>6</th>\n",
       "      <td>start station longitude</td>\n",
       "      <td>1388</td>\n",
       "      <td>float64</td>\n",
       "      <td>16129336</td>\n",
       "    </tr>\n",
       "    <tr>\n",
       "      <th>7</th>\n",
       "      <td>end station id</td>\n",
       "      <td>1402</td>\n",
       "      <td>int64</td>\n",
       "      <td>16129336</td>\n",
       "    </tr>\n",
       "    <tr>\n",
       "      <th>8</th>\n",
       "      <td>end station name</td>\n",
       "      <td>1402</td>\n",
       "      <td>object</td>\n",
       "      <td>155140885</td>\n",
       "    </tr>\n",
       "    <tr>\n",
       "      <th>9</th>\n",
       "      <td>end station latitude</td>\n",
       "      <td>1402</td>\n",
       "      <td>float64</td>\n",
       "      <td>16129336</td>\n",
       "    </tr>\n",
       "    <tr>\n",
       "      <th>10</th>\n",
       "      <td>end station longitude</td>\n",
       "      <td>1399</td>\n",
       "      <td>float64</td>\n",
       "      <td>16129336</td>\n",
       "    </tr>\n",
       "    <tr>\n",
       "      <th>11</th>\n",
       "      <td>bikeid</td>\n",
       "      <td>24151</td>\n",
       "      <td>int64</td>\n",
       "      <td>16129336</td>\n",
       "    </tr>\n",
       "    <tr>\n",
       "      <th>12</th>\n",
       "      <td>usertype</td>\n",
       "      <td>2</td>\n",
       "      <td>object</td>\n",
       "      <td>131223497</td>\n",
       "    </tr>\n",
       "    <tr>\n",
       "      <th>13</th>\n",
       "      <td>birth year</td>\n",
       "      <td>83</td>\n",
       "      <td>int64</td>\n",
       "      <td>16129336</td>\n",
       "    </tr>\n",
       "    <tr>\n",
       "      <th>14</th>\n",
       "      <td>gender</td>\n",
       "      <td>3</td>\n",
       "      <td>int64</td>\n",
       "      <td>16129336</td>\n",
       "    </tr>\n",
       "  </tbody>\n",
       "</table>\n",
       "</div>"
      ],
      "text/plain": [
       "                Column Name   Unique Data Type  Memory Usage\n",
       "0              tripduration    14311     int64      16129336\n",
       "1                 starttime  2014805    object     163308359\n",
       "2                  stoptime  2014800    object     163308359\n",
       "3          start station id     1391     int64      16129336\n",
       "4        start station name     1391    object     155144060\n",
       "5    start station latitude     1391   float64      16129336\n",
       "6   start station longitude     1388   float64      16129336\n",
       "7            end station id     1402     int64      16129336\n",
       "8          end station name     1402    object     155140885\n",
       "9      end station latitude     1402   float64      16129336\n",
       "10    end station longitude     1399   float64      16129336\n",
       "11                   bikeid    24151     int64      16129336\n",
       "12                 usertype        2    object     131223497\n",
       "13               birth year       83     int64      16129336\n",
       "14                   gender        3     int64      16129336"
      ]
     },
     "execution_count": 4,
     "metadata": {},
     "output_type": "execute_result"
    }
   ],
   "source": [
    "#borrowed from blog posting referenced above: \n",
    "\n",
    "pd.DataFrame.from_records([(col, df[col].nunique(), df[col].dtype, df[col].memory_usage(deep=True) )  for col in df.columns],\n",
    "  columns=['Column Name', 'Unique', 'Data Type','Memory Usage'])"
   ]
  },
  {
   "cell_type": "code",
   "execution_count": 5,
   "metadata": {},
   "outputs": [],
   "source": [
    "#Changing times stored as strings to timestamp\n",
    "df['starttime'] = pd.to_datetime(df['starttime'])\n",
    "df['stoptime'] = pd.to_datetime(df['stoptime'])"
   ]
  },
  {
   "cell_type": "code",
   "execution_count": 6,
   "metadata": {},
   "outputs": [],
   "source": [
    "#Applying 'category' data type to string columns\n",
    "\n",
    "category_columns = ['start station name', 'end station name', 'bikeid', 'usertype', 'gender']\n",
    "for col in category_columns:\n",
    "    df[col] = df[col].astype('category')\n",
    "    "
   ]
  },
  {
   "cell_type": "code",
   "execution_count": 7,
   "metadata": {},
   "outputs": [],
   "source": [
    "#Since we have trip duration and start time, we can drop stoptime\n",
    "df = df.drop('stoptime', axis = 1)"
   ]
  },
  {
   "cell_type": "code",
   "execution_count": 8,
   "metadata": {},
   "outputs": [
    {
     "name": "stdout",
     "output_type": "stream",
     "text": [
      "<class 'pandas.core.frame.DataFrame'>\n",
      "RangeIndex: 2016151 entries, 0 to 2016150\n",
      "Data columns (total 14 columns):\n",
      " #   Column                   Dtype         \n",
      "---  ------                   -----         \n",
      " 0   tripduration             int64         \n",
      " 1   starttime                datetime64[ns]\n",
      " 2   start station id         int64         \n",
      " 3   start station name       category      \n",
      " 4   start station latitude   float64       \n",
      " 5   start station longitude  float64       \n",
      " 6   end station id           int64         \n",
      " 7   end station name         category      \n",
      " 8   end station latitude     float64       \n",
      " 9   end station longitude    float64       \n",
      " 10  bikeid                   category      \n",
      " 11  usertype                 category      \n",
      " 12  birth year               int64         \n",
      " 13  gender                   category      \n",
      "dtypes: category(5), datetime64[ns](1), float64(4), int64(4)\n",
      "memory usage: 154.7 MB\n"
     ]
    }
   ],
   "source": [
    "#Checking memory footprint again\n",
    "df.info()"
   ]
  },
  {
   "cell_type": "code",
   "execution_count": 9,
   "metadata": {},
   "outputs": [
    {
     "data": {
      "text/plain": [
       "<Figure size 432x288 with 0 Axes>"
      ]
     },
     "metadata": {},
     "output_type": "display_data"
    },
    {
     "data": {
      "image/png": "[encoded data removed]",
      "text/plain": [
       "<Figure size 1440x1440 with 9 Axes>"
      ]
     },
     "metadata": {
      "needs_background": "light"
     },
     "output_type": "display_data"
    }
   ],
   "source": [
    "# Build histograms to profile data fields\n",
    "fig=plt.figure()\n",
    "df.hist(figsize=(20,20))\n",
    "plt.show()"
   ]
  },
  {
   "cell_type": "markdown",
   "metadata": {},
   "source": [
    "### Histograms Observations\n",
    "* start/end station data look good, showing symmetry between the distributions for lat, lon, & station ID.\n",
    "* birth year and trip duration are extremely skewed. These two will have to be explored further. \n"
   ]
  },
  {
   "cell_type": "code",
   "execution_count": 10,
   "metadata": {
    "scrolled": true
   },
   "outputs": [
    {
     "data": {
      "text/plain": [
       "1970    1926868\n",
       "1990       3350\n",
       "1992       2819\n",
       "1989       2797\n",
       "1991       2705\n",
       "         ...   \n",
       "1921          1\n",
       "1900          1\n",
       "1899          1\n",
       "1893          1\n",
       "1890          1\n",
       "Name: birth year, Length: 83, dtype: int64"
      ]
     },
     "execution_count": 10,
     "metadata": {},
     "output_type": "execute_result"
    }
   ],
   "source": [
    "df['birth year'].value_counts()"
   ]
  },
  {
   "cell_type": "code",
   "execution_count": 39,
   "metadata": {},
   "outputs": [
    {
     "name": "stdout",
     "output_type": "stream",
     "text": [
      "the year 1970 takes up  96% of all the birth year values. \n",
      "  89,282 trips remain, but relative to the total, \n",
      " I feel the column should be disregarded.\n"
     ]
    }
   ],
   "source": [
    "x = 1926868/2016150\n",
    "y = 2016150 - 1926868\n",
    "\n",
    "print(f'the year 1970 takes up {x: .0%} of all the birth year values. \\n {y: ,} trips remain, but relative to the total, \\n I feel the column should be disregarded.')\n"
   ]
  },
  {
   "cell_type": "code",
   "execution_count": 12,
   "metadata": {},
   "outputs": [
    {
     "data": {
      "text/plain": [
       "<seaborn.axisgrid.FacetGrid at 0x1ff5dfa0d00>"
      ]
     },
     "execution_count": 12,
     "metadata": {},
     "output_type": "execute_result"
    },
    {
     "data": {
      "image/png": "[encoded data removed]",
      "text/plain": [
       "<Figure size 640x360 with 1 Axes>"
      ]
     },
     "metadata": {
      "needs_background": "light"
     },
     "output_type": "display_data"
    }
   ],
   "source": [
    "sns.displot(data=df, x=\"tripduration\" , bins=range(0,1500,60),  aspect=16/9)"
   ]
  },
  {
   "cell_type": "markdown",
   "metadata": {},
   "source": [
    "Skewness of tripduration appears to be okay. Most values are near 5 minutes, and then slowly trail off from there. This makes sense as most trips would be expected to be in the neighborhood of 5-10 minutes. Keeping data."
   ]
  },
  {
   "cell_type": "code",
   "execution_count": 13,
   "metadata": {},
   "outputs": [
    {
     "data": {
      "image/png": "[encoded data removed]",
      "text/plain": [
       "<Figure size 432x288 with 1 Axes>"
      ]
     },
     "metadata": {
      "needs_background": "light"
     },
     "output_type": "display_data"
    }
   ],
   "source": [
    "fig1, ax1 = plt.subplots()\n",
    "ax1.set_title('trip duration')\n",
    "ax1.boxplot(df['tripduration'], flierprops = dict(markerfacecolor='red', marker='^'))\n",
    "# ax1.set_xticklabels(treatments)\n",
    "ax1.set_ylabel('Trip Duration in Seconds')\n",
    "ax1.set_ylim(0, 40000)\n",
    "plt.show()"
   ]
  },
  {
   "cell_type": "markdown",
   "metadata": {},
   "source": [
    "### Boxplot interpretation:\n",
    "* trip duration shows a fairly compact box, with a large number of outliers that have very large magnitude compared to the majority of data points. This will shift the average upward, and it would be better to drop those rows. "
   ]
  },
  {
   "cell_type": "code",
   "execution_count": 14,
   "metadata": {},
   "outputs": [],
   "source": [
    "    \n",
    "    # Determine outliers using upper and lower bounds\n",
    "        #Perform necessary calculations to get outlier bounds\n",
    "    quartiles = df['tripduration'].quantile([.25,.5,.75]) \n",
    "    lowerq = quartiles[0.25]                           \n",
    "    upperq = quartiles[0.75]                           \n",
    "    iqr = upperq-lowerq                                \n",
    "    lower_bound = lowerq - (1.5*iqr)                   \n",
    "    upper_bound = upperq + (1.5*iqr)                   \n",
    "    \n",
    "    #Loop over set to find any outliers\n",
    "    outliers = []   #initialize empty list to trap any outliers\n",
    "    for measurement in df['tripduration']:\n",
    "        if (measurement > upper_bound):  # not trapping small outliers, only want the points greater than upper_bound\n",
    "            outliers.append(measurement)"
   ]
  },
  {
   "cell_type": "code",
   "execution_count": 15,
   "metadata": {},
   "outputs": [
    {
     "name": "stdout",
     "output_type": "stream",
     "text": [
      "There are 107223 out of 2016151 outliers, or 5%. These records will be excluded from analysis\n"
     ]
    }
   ],
   "source": [
    "num = len(outliers)\n",
    "den = len(df['tripduration'])\n",
    "\n",
    "print(f'There are {num} out of {den} outliers, or {num/den:.0%}. These records will be excluded from analysis')"
   ]
  },
  {
   "cell_type": "code",
   "execution_count": 16,
   "metadata": {},
   "outputs": [
    {
     "data": {
      "text/plain": [
       "2016151"
      ]
     },
     "execution_count": 16,
     "metadata": {},
     "output_type": "execute_result"
    }
   ],
   "source": [
    "len(df['tripduration'])"
   ]
  },
  {
   "cell_type": "code",
   "execution_count": 17,
   "metadata": {},
   "outputs": [],
   "source": [
    "df1 = df[df['tripduration']<upper_bound]  #Filtering such that outliers are dropped. Outliers are defined as tripduration > upper_bound"
   ]
  },
  {
   "cell_type": "code",
   "execution_count": 18,
   "metadata": {},
   "outputs": [
    {
     "data": {
      "text/plain": [
       "1908928"
      ]
     },
     "execution_count": 18,
     "metadata": {},
     "output_type": "execute_result"
    }
   ],
   "source": [
    "len(df1)"
   ]
  },
  {
   "cell_type": "code",
   "execution_count": 42,
   "metadata": {},
   "outputs": [],
   "source": [
    "df1a = df1.drop('birth year', axis=1)"
   ]
  },
  {
   "cell_type": "code",
   "execution_count": 43,
   "metadata": {},
   "outputs": [
    {
     "data": {
      "text/html": [
       "<div>\n",
       "<style scoped>\n",
       "    .dataframe tbody tr th:only-of-type {\n",
       "        vertical-align: middle;\n",
       "    }\n",
       "\n",
       "    .dataframe tbody tr th {\n",
       "        vertical-align: top;\n",
       "    }\n",
       "\n",
       "    .dataframe thead th {\n",
       "        text-align: right;\n",
       "    }\n",
       "</style>\n",
       "<table border=\"1\" class=\"dataframe\">\n",
       "  <thead>\n",
       "    <tr style=\"text-align: right;\">\n",
       "      <th></th>\n",
       "      <th>tripduration</th>\n",
       "      <th>start station id</th>\n",
       "      <th>start station latitude</th>\n",
       "      <th>start station longitude</th>\n",
       "      <th>end station id</th>\n",
       "      <th>end station latitude</th>\n",
       "      <th>end station longitude</th>\n",
       "    </tr>\n",
       "  </thead>\n",
       "  <tbody>\n",
       "    <tr>\n",
       "      <th>count</th>\n",
       "      <td>1908928.00</td>\n",
       "      <td>1908928.00</td>\n",
       "      <td>1908928.00</td>\n",
       "      <td>1908928.00</td>\n",
       "      <td>1908928.00</td>\n",
       "      <td>1908928.00</td>\n",
       "      <td>1908928.00</td>\n",
       "    </tr>\n",
       "    <tr>\n",
       "      <th>mean</th>\n",
       "      <td>800.13</td>\n",
       "      <td>2271.81</td>\n",
       "      <td>40.74</td>\n",
       "      <td>-73.98</td>\n",
       "      <td>2266.55</td>\n",
       "      <td>40.74</td>\n",
       "      <td>-73.98</td>\n",
       "    </tr>\n",
       "    <tr>\n",
       "      <th>std</th>\n",
       "      <td>549.60</td>\n",
       "      <td>1592.31</td>\n",
       "      <td>0.04</td>\n",
       "      <td>0.02</td>\n",
       "      <td>1593.06</td>\n",
       "      <td>0.04</td>\n",
       "      <td>0.02</td>\n",
       "    </tr>\n",
       "    <tr>\n",
       "      <th>min</th>\n",
       "      <td>61.00</td>\n",
       "      <td>72.00</td>\n",
       "      <td>40.63</td>\n",
       "      <td>-74.03</td>\n",
       "      <td>72.00</td>\n",
       "      <td>40.63</td>\n",
       "      <td>-74.04</td>\n",
       "    </tr>\n",
       "    <tr>\n",
       "      <th>25%</th>\n",
       "      <td>373.00</td>\n",
       "      <td>448.00</td>\n",
       "      <td>40.72</td>\n",
       "      <td>-73.99</td>\n",
       "      <td>447.00</td>\n",
       "      <td>40.72</td>\n",
       "      <td>-73.99</td>\n",
       "    </tr>\n",
       "    <tr>\n",
       "      <th>50%</th>\n",
       "      <td>650.00</td>\n",
       "      <td>3148.00</td>\n",
       "      <td>40.74</td>\n",
       "      <td>-73.98</td>\n",
       "      <td>3147.00</td>\n",
       "      <td>40.74</td>\n",
       "      <td>-73.98</td>\n",
       "    </tr>\n",
       "    <tr>\n",
       "      <th>75%</th>\n",
       "      <td>1106.00</td>\n",
       "      <td>3641.00</td>\n",
       "      <td>40.77</td>\n",
       "      <td>-73.96</td>\n",
       "      <td>3637.00</td>\n",
       "      <td>40.76</td>\n",
       "      <td>-73.96</td>\n",
       "    </tr>\n",
       "    <tr>\n",
       "      <th>max</th>\n",
       "      <td>2478.00</td>\n",
       "      <td>4502.00</td>\n",
       "      <td>40.87</td>\n",
       "      <td>-73.88</td>\n",
       "      <td>4502.00</td>\n",
       "      <td>40.87</td>\n",
       "      <td>-73.88</td>\n",
       "    </tr>\n",
       "  </tbody>\n",
       "</table>\n",
       "</div>"
      ],
      "text/plain": [
       "       tripduration  start station id  start station latitude  \\\n",
       "count    1908928.00        1908928.00              1908928.00   \n",
       "mean         800.13           2271.81                   40.74   \n",
       "std          549.60           1592.31                    0.04   \n",
       "min           61.00             72.00                   40.63   \n",
       "25%          373.00            448.00                   40.72   \n",
       "50%          650.00           3148.00                   40.74   \n",
       "75%         1106.00           3641.00                   40.77   \n",
       "max         2478.00           4502.00                   40.87   \n",
       "\n",
       "       start station longitude  end station id  end station latitude  \\\n",
       "count               1908928.00      1908928.00            1908928.00   \n",
       "mean                    -73.98         2266.55                 40.74   \n",
       "std                       0.02         1593.06                  0.04   \n",
       "min                     -74.03           72.00                 40.63   \n",
       "25%                     -73.99          447.00                 40.72   \n",
       "50%                     -73.98         3147.00                 40.74   \n",
       "75%                     -73.96         3637.00                 40.76   \n",
       "max                     -73.88         4502.00                 40.87   \n",
       "\n",
       "       end station longitude  \n",
       "count             1908928.00  \n",
       "mean                  -73.98  \n",
       "std                     0.02  \n",
       "min                   -74.04  \n",
       "25%                   -73.99  \n",
       "50%                   -73.98  \n",
       "75%                   -73.96  \n",
       "max                   -73.88  "
      ]
     },
     "execution_count": 43,
     "metadata": {},
     "output_type": "execute_result"
    }
   ],
   "source": [
    "df1a.describe().round(2)"
   ]
  },
  {
   "cell_type": "code",
   "execution_count": 44,
   "metadata": {},
   "outputs": [
    {
     "data": {
      "text/plain": [
       "'146.55 MB'"
      ]
     },
     "execution_count": 44,
     "metadata": {},
     "output_type": "execute_result"
    }
   ],
   "source": [
    "df_memory_total(df1a)"
   ]
  },
  {
   "cell_type": "code",
   "execution_count": 21,
   "metadata": {},
   "outputs": [
    {
     "name": "stdout",
     "output_type": "stream",
     "text": [
      "<class 'pandas.core.frame.DataFrame'>\n",
      "RangeIndex: 2016151 entries, 0 to 2016150\n",
      "Data columns (total 14 columns):\n",
      " #   Column                   Dtype         \n",
      "---  ------                   -----         \n",
      " 0   tripduration             int64         \n",
      " 1   starttime                datetime64[ns]\n",
      " 2   start station id         int64         \n",
      " 3   start station name       category      \n",
      " 4   start station latitude   float64       \n",
      " 5   start station longitude  float64       \n",
      " 6   end station id           int64         \n",
      " 7   end station name         category      \n",
      " 8   end station latitude     float64       \n",
      " 9   end station longitude    float64       \n",
      " 10  bikeid                   category      \n",
      " 11  usertype                 category      \n",
      " 12  birth year               int64         \n",
      " 13  gender                   category      \n",
      "dtypes: category(5), datetime64[ns](1), float64(4), int64(4)\n",
      "memory usage: 154.7 MB\n"
     ]
    }
   ],
   "source": [
    "df.info()"
   ]
  },
  {
   "cell_type": "code",
   "execution_count": 40,
   "metadata": {},
   "outputs": [
    {
     "name": "stdout",
     "output_type": "stream",
     "text": [
      "memory usage is: 161.11 MB\n"
     ]
    }
   ],
   "source": [
    "print(f'memory usage is: {df_memory_total(df1)}')"
   ]
  },
  {
   "cell_type": "code",
   "execution_count": 45,
   "metadata": {},
   "outputs": [],
   "source": [
    "df1a.to_csv('202104_cleaned.csv')"
   ]
  },
  {
   "cell_type": "code",
   "execution_count": 46,
   "metadata": {},
   "outputs": [
    {
     "data": {
      "text/plain": [
       "'64.00 KB'"
      ]
     },
     "execution_count": 46,
     "metadata": {},
     "output_type": "execute_result"
    }
   ],
   "source": [
    "humanbytes(65536)"
   ]
  },
  {
   "cell_type": "code",
   "execution_count": null,
   "metadata": {},
   "outputs": [],
   "source": []
  }
 ],
 "metadata": {
  "kernelspec": {
   "display_name": "Python 3",
   "language": "python",
   "name": "python3"
  },
  "language_info": {
   "codemirror_mode": {
    "name": "ipython",
    "version": 3
   },
   "file_extension": ".py",
   "mimetype": "text/x-python",
   "name": "python",
   "nbconvert_exporter": "python",
   "pygments_lexer": "ipython3",
   "version": "3.8.5"
  }
 },
 "nbformat": 4,
 "nbformat_minor": 4
}
