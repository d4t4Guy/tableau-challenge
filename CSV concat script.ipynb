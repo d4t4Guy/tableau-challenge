{
 "cells": [
  {
   "cell_type": "markdown",
   "metadata": {},
   "source": [
    "### About this notebook\n",
    "This section of code is in its own notebook because the process can take a long time with very large CSV files. For future study it would be interesting to know if using Linux utilities such as sed or vim (text editors) can do this faster.  Using Jupyter NB to document process. "
   ]
  },
  {
   "cell_type": "code",
   "execution_count": 1,
   "metadata": {},
   "outputs": [],
   "source": [
    "import UDFs as u #User Defined Functions = UDFs\n",
    "import pandas as pd"
   ]
  },
  {
   "cell_type": "code",
   "execution_count": 2,
   "metadata": {},
   "outputs": [],
   "source": [
    "u.concat_csv_files('Data')"
   ]
  },
  {
   "cell_type": "markdown",
   "metadata": {},
   "source": [
    "### code behind UDF"
   ]
  },
  {
   "cell_type": "code",
   "execution_count": null,
   "metadata": {},
   "outputs": [],
   "source": [
    "# User Defined Function for union (concatenation) of multiple data files with only \n",
    "# one set of headers in the initial row\n",
    "#   ASSUMPTIONS - \n",
    "#     1. all files in directory are to be unioned. \n",
    "#     2. all files have the same columns and data types\n",
    "#     3. there are no duplicate rows, otherwise would need argument to say how to handle duplicate records.\n",
    "\n",
    "\n",
    "\n",
    "\n",
    "def concat_csv_files(directory):\n",
    "    import os\n",
    "    import glob\n",
    "    #set working directory\n",
    "    os.chdir(directory)\n",
    "\n",
    "    #find all csv files in the folder\n",
    "    #use glob pattern matching -> extension = 'csv'\n",
    "    #save result in list -> all_filenames\n",
    "    extension = 'csv'\n",
    "    all_filenames = [i for i in glob.glob('*.{}'.format(extension))]\n",
    "    #print(all_filenames)\n",
    "\n",
    "    #combine all files in the list\n",
    "    combined_csv = pd.concat([pd.read_csv(f) for f in all_filenames ])\n",
    "    #export to csv\n",
    "    combined_csv.to_csv( \"combined_csv.csv\", index=False, encoding='utf-8-sig')"
   ]
  }
 ],
 "metadata": {
  "kernelspec": {
   "display_name": "Python 3",
   "language": "python",
   "name": "python3"
  },
  "language_info": {
   "codemirror_mode": {
    "name": "ipython",
    "version": 3
   },
   "file_extension": ".py",
   "mimetype": "text/x-python",
   "name": "python",
   "nbconvert_exporter": "python",
   "pygments_lexer": "ipython3",
   "version": "3.8.5"
  }
 },
 "nbformat": 4,
 "nbformat_minor": 4
}
